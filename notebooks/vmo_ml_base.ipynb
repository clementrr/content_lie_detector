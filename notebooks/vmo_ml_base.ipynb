{
 "cells": [
  {
   "cell_type": "markdown",
   "metadata": {
    "heading_collapsed": true
   },
   "source": [
    "### Settings"
   ]
  },
  {
   "cell_type": "code",
   "execution_count": 1,
   "metadata": {
    "ExecuteTime": {
     "end_time": "2020-12-01T15:40:37.260128Z",
     "start_time": "2020-12-01T15:40:36.275363Z"
    },
    "hidden": true
   },
   "outputs": [],
   "source": [
    "import os\n",
    "import string\n",
    "import cufflinks as cf\n",
    "\n",
    "import pandas as pd\n",
    "import numpy as np\n",
    "from matplotlib import pyplot as plt\n",
    "\n",
    "from nltk.tokenize import word_tokenize\n",
    "from nltk.corpus import stopwords\n",
    "from nltk.stem import WordNetLemmatizer\n",
    "from sklearn.feature_extraction.text import CountVectorizer, TfidfVectorizer\n",
    "from sklearn.model_selection import train_test_split\n",
    "from sklearn.metrics import classification_report\n",
    "\n",
    "from wordcloud import WordCloud\n",
    "\n",
    "from sklearn.tree import DecisionTreeClassifier\n",
    "from sklearn.ensemble import RandomForestClassifier, AdaBoostClassifier\n",
    "from sklearn.metrics import accuracy_score"
   ]
  },
  {
   "cell_type": "code",
   "execution_count": 2,
   "metadata": {
    "ExecuteTime": {
     "end_time": "2020-12-01T15:40:37.303419Z",
     "start_time": "2020-12-01T15:40:37.261887Z"
    },
    "hidden": true
   },
   "outputs": [
    {
     "data": {
      "text/html": [
       "        <script type=\"text/javascript\">\n",
       "        window.PlotlyConfig = {MathJaxConfig: 'local'};\n",
       "        if (window.MathJax) {MathJax.Hub.Config({SVG: {font: \"STIX-Web\"}});}\n",
       "        if (typeof require !== 'undefined') {\n",
       "        require.undef(\"plotly\");\n",
       "        requirejs.config({\n",
       "            paths: {\n",
       "                'plotly': ['https://cdn.plot.ly/plotly-latest.min']\n",
       "            }\n",
       "        });\n",
       "        require(['plotly'], function(Plotly) {\n",
       "            window._Plotly = Plotly;\n",
       "        });\n",
       "        }\n",
       "        </script>\n",
       "        "
      ]
     },
     "metadata": {},
     "output_type": "display_data"
    }
   ],
   "source": [
    "cf.go_offline()\n",
    "cf.set_config_file(offline=False, world_readable=True)"
   ]
  },
  {
   "cell_type": "code",
   "execution_count": 3,
   "metadata": {
    "ExecuteTime": {
     "end_time": "2020-12-01T15:40:37.311113Z",
     "start_time": "2020-12-01T15:40:37.305934Z"
    },
    "hidden": true
   },
   "outputs": [],
   "source": [
    "def get_data(file='', title_text=True, subject=False, date=False, nb_samples=5_000):\n",
    "\n",
    "#     path = os.path.dirname(os.path.dirname(__file__)) + 'raw_data/'\n",
    "#     data = pd.read_csv(path + file)\n",
    "    \n",
    "    data = pd.read_csv('../raw_data/fake_real_data.csv')\n",
    "    \n",
    "    tmp = data.sample(n=nb_samples)\n",
    "    \n",
    "    while tmp.target.value_counts()[1] / tmp.target.value_counts()[0] > 1.1:\n",
    "        tmp = data.sample(n=nb_samples)\n",
    "    data = tmp; del tmp\n",
    "    \n",
    "    features = [\"article\"]\n",
    "\n",
    "    data[[\"article\"]] = data[\"title\"] + ' ' + data[\"text\"]\n",
    "\n",
    "    if date:\n",
    "        data[[\"date\"]] = pd.to_datetime(data[\"date\"])\n",
    "        features.append(\"date\")\n",
    "\n",
    "    if subject:\n",
    "        features.append(\"subject\")\n",
    "\n",
    "    X = data[features]\n",
    "    y = data[\"target\"]\n",
    "\n",
    "    return X, y"
   ]
  },
  {
   "cell_type": "code",
   "execution_count": 4,
   "metadata": {
    "ExecuteTime": {
     "end_time": "2020-12-01T15:40:37.319479Z",
     "start_time": "2020-12-01T15:40:37.313154Z"
    },
    "hidden": true
   },
   "outputs": [],
   "source": [
    "def clean_txt(txt):\n",
    "    \n",
    "    def remove_punctuations(text):\n",
    "        for punctuation in string.punctuation:\n",
    "            text = text.replace(punctuation, '')\n",
    "        return text\n",
    "\n",
    "    def lower(text):\n",
    "        text = text.lower()\n",
    "        return text\n",
    "\n",
    "    def number(text):\n",
    "        text = ''.join(word for word in text if not word.isdigit())\n",
    "        return text\n",
    "\n",
    "    def stop(text):\n",
    "        stop_words = set(stopwords.words('english'))\n",
    "        word_tokens = word_tokenize(text)\n",
    "        text = [w for w in word_tokens if not w in stop_words]\n",
    "        return text\n",
    "\n",
    "    def lemmatize(text):\n",
    "        lemmatizer = WordNetLemmatizer()\n",
    "        lemmatized = [lemmatizer.lemmatize(word) for word in text]\n",
    "        text = lemmatized\n",
    "        return text\n",
    "\n",
    "    def virg(text):\n",
    "        text=\" \".join(text)\n",
    "        return text\n",
    "    \n",
    "    txt = lower(txt)\n",
    "    txt = number(txt)\n",
    "    txt = stop(txt)\n",
    "    txt = lemmatize(txt)\n",
    "    txt = virg(txt)\n",
    "    \n",
    "    return txt"
   ]
  },
  {
   "cell_type": "code",
   "execution_count": 5,
   "metadata": {
    "ExecuteTime": {
     "end_time": "2020-12-01T15:40:37.332237Z",
     "start_time": "2020-12-01T15:40:37.321243Z"
    },
    "hidden": true
   },
   "outputs": [],
   "source": [
    "def get_top_n_words(corpus, n=None):\n",
    "    vec = CountVectorizer().fit(corpus)\n",
    "    bag_of_words = vec.transform(corpus)\n",
    "    sum_words = bag_of_words.sum(axis=0) \n",
    "    words_freq = [(word, sum_words[0, idx]) for word, idx in     vec.vocabulary_.items()]\n",
    "    words_freq =sorted(words_freq, key = lambda x: x[1], reverse=True)\n",
    "    return words_freq[:n]\n",
    "\n",
    "def get_top_n_bigram(corpus, n=None):\n",
    "    vec = CountVectorizer(ngram_range=(2, 2)).fit(corpus)\n",
    "    bag_of_words = vec.transform(corpus)\n",
    "    sum_words = bag_of_words.sum(axis=0) \n",
    "    words_freq = [(word, sum_words[0, idx]) for word, idx in vec.vocabulary_.items()]\n",
    "    words_freq =sorted(words_freq, key = lambda x: x[1], reverse=True)\n",
    "    return words_freq[:n]\n",
    "\n",
    "\n",
    "def get_top_n_trigram(corpus, n=None):\n",
    "    vec = CountVectorizer(ngram_range=(3, 3)).fit(corpus)\n",
    "    bag_of_words = vec.transform(corpus)\n",
    "    sum_words = bag_of_words.sum(axis=0) \n",
    "    words_freq = [(word, sum_words[0, idx]) for word, idx in vec.vocabulary_.items()]\n",
    "    words_freq =sorted(words_freq, key = lambda x: x[1], reverse=True)\n",
    "    return words_freq[:n]"
   ]
  },
  {
   "cell_type": "markdown",
   "metadata": {
    "heading_collapsed": true
   },
   "source": [
    "# Exploration"
   ]
  },
  {
   "cell_type": "markdown",
   "metadata": {
    "heading_collapsed": true,
    "hidden": true
   },
   "source": [
    "## Import Data\n"
   ]
  },
  {
   "cell_type": "code",
   "execution_count": null,
   "metadata": {
    "ExecuteTime": {
     "end_time": "2020-12-01T15:34:10.651244Z",
     "start_time": "2020-12-01T15:34:10.062738Z"
    },
    "hidden": true,
    "scrolled": false
   },
   "outputs": [],
   "source": [
    "X, y = get_data(nb_samples=5_000)"
   ]
  },
  {
   "cell_type": "markdown",
   "metadata": {
    "heading_collapsed": true,
    "hidden": true
   },
   "source": [
    "## Clean Data"
   ]
  },
  {
   "cell_type": "code",
   "execution_count": null,
   "metadata": {
    "ExecuteTime": {
     "end_time": "2020-12-01T15:34:27.278450Z",
     "start_time": "2020-12-01T15:34:11.150818Z"
    },
    "hidden": true
   },
   "outputs": [],
   "source": [
    "X.article = X.article.map(clean_txt)"
   ]
  },
  {
   "cell_type": "markdown",
   "metadata": {
    "heading_collapsed": true,
    "hidden": true
   },
   "source": [
    "## Count N_Grams"
   ]
  },
  {
   "cell_type": "code",
   "execution_count": null,
   "metadata": {
    "ExecuteTime": {
     "end_time": "2020-12-01T15:26:51.778922Z",
     "start_time": "2020-12-01T15:26:48.654048Z"
    },
    "hidden": true
   },
   "outputs": [],
   "source": [
    "common_words = get_top_n_words(X.article, 20)\n",
    "tmp = pd.DataFrame(common_words,columns=['word','count'])\n",
    "tmp.groupby('word').sum()['count'].sort_values(ascending=False).iplot(\n",
    "    kind='bar', yTitle='Count', linecolor='black', title='Top 20 UNIgrams used in articles',color='blue')\n",
    "del tmp"
   ]
  },
  {
   "cell_type": "code",
   "execution_count": null,
   "metadata": {
    "ExecuteTime": {
     "end_time": "2020-12-01T15:27:02.655999Z",
     "start_time": "2020-12-01T15:26:51.781867Z"
    },
    "hidden": true
   },
   "outputs": [],
   "source": [
    "common_words = get_top_n_bigram(X.article, 20)\n",
    "tmp = pd.DataFrame(common_words, columns = ['words' ,'count'])\n",
    "tmp.groupby('words').sum()['count'].sort_values(ascending=False).iplot(\n",
    "    kind='bar', yTitle='Count', linecolor='black', title='Top 20 BIgrams used in articles', color='blue')\n",
    "del tmp"
   ]
  },
  {
   "cell_type": "code",
   "execution_count": null,
   "metadata": {
    "ExecuteTime": {
     "end_time": "2020-12-01T15:27:16.530767Z",
     "start_time": "2020-12-01T15:27:02.658923Z"
    },
    "hidden": true
   },
   "outputs": [],
   "source": [
    "common_words = get_top_n_trigram(X.article, 20)\n",
    "tmp = pd.DataFrame(common_words, columns = ['words' ,'count'])\n",
    "tmp.groupby('words').sum()['count'].sort_values(ascending=False).iplot(\n",
    "    kind='bar', yTitle='Count', linecolor='black', title='Top 20 TRIgrams used in articles', color='blue')\n",
    "del tmp"
   ]
  },
  {
   "cell_type": "markdown",
   "metadata": {
    "heading_collapsed": true,
    "hidden": true
   },
   "source": [
    "## WordCloud"
   ]
  },
  {
   "cell_type": "code",
   "execution_count": null,
   "metadata": {
    "ExecuteTime": {
     "end_time": "2020-12-01T15:29:04.168474Z",
     "start_time": "2020-12-01T15:28:49.857453Z"
    },
    "hidden": true
   },
   "outputs": [],
   "source": [
    "wc = WordCloud(background_color=\"black\", max_words=100,\n",
    "               max_font_size=256,\n",
    "               width=1000, height=1000)\n",
    "wc.generate(' '.join(X.article))\n",
    "plt.figure(figsize=(8, 8))\n",
    "plt.imshow(wc, interpolation=\"bilinear\")\n",
    "plt.axis('off')\n",
    "plt.show()"
   ]
  },
  {
   "cell_type": "markdown",
   "metadata": {
    "heading_collapsed": true
   },
   "source": [
    "# Baseline"
   ]
  },
  {
   "cell_type": "markdown",
   "metadata": {
    "heading_collapsed": true,
    "hidden": true
   },
   "source": [
    "## Holdout"
   ]
  },
  {
   "cell_type": "code",
   "execution_count": null,
   "metadata": {
    "ExecuteTime": {
     "end_time": "2020-12-01T14:12:59.615278Z",
     "start_time": "2020-12-01T14:12:59.032308Z"
    },
    "hidden": true
   },
   "outputs": [],
   "source": [
    "X, y = get_data(nb_samples=10_000)\n",
    "X_train, X_test, y_train, y_test = train_test_split(X, y, test_size=0.3)"
   ]
  },
  {
   "cell_type": "code",
   "execution_count": null,
   "metadata": {
    "ExecuteTime": {
     "end_time": "2020-12-01T14:03:46.761097Z",
     "start_time": "2020-12-01T14:03:25.693677Z"
    },
    "hidden": true
   },
   "outputs": [],
   "source": [
    "X_train.article = X_train.article.map(clean_txt)"
   ]
  },
  {
   "cell_type": "code",
   "execution_count": null,
   "metadata": {
    "ExecuteTime": {
     "end_time": "2020-12-01T14:03:55.940122Z",
     "start_time": "2020-12-01T14:03:46.764157Z"
    },
    "hidden": true
   },
   "outputs": [],
   "source": [
    "X_test.article = X_test.article.map(clean_txt)"
   ]
  },
  {
   "cell_type": "markdown",
   "metadata": {
    "heading_collapsed": true,
    "hidden": true
   },
   "source": [
    "## Vectorization"
   ]
  },
  {
   "cell_type": "code",
   "execution_count": null,
   "metadata": {
    "ExecuteTime": {
     "end_time": "2020-12-01T14:03:57.393649Z",
     "start_time": "2020-12-01T14:03:55.942079Z"
    },
    "hidden": true
   },
   "outputs": [],
   "source": [
    "vec = TfidfVectorizer()\n",
    "vec_train = vec.fit_transform(X_train.article)\n",
    "vec_test = vec.transform(X_test.article)"
   ]
  },
  {
   "cell_type": "markdown",
   "metadata": {
    "heading_collapsed": true,
    "hidden": true
   },
   "source": [
    "## Model & Scoring"
   ]
  },
  {
   "cell_type": "code",
   "execution_count": null,
   "metadata": {
    "ExecuteTime": {
     "end_time": "2020-12-01T14:04:01.512402Z",
     "start_time": "2020-12-01T14:03:57.395474Z"
    },
    "hidden": true
   },
   "outputs": [],
   "source": [
    "RdF = RandomForestClassifier(n_estimators=100, n_jobs=-1)\n",
    "RdF.fit(vec_train, y_train)\n",
    "y_pred_rf = RdF.predict(vec_test)\n",
    "score_rf = accuracy_score(y_test, y_pred_rf)\n",
    "print(\"RandomForest Accuracy:  %0.3f\" %score_rf)\n",
    "print(classification_report(y_test, y_pred_rf))"
   ]
  },
  {
   "cell_type": "code",
   "execution_count": null,
   "metadata": {
    "ExecuteTime": {
     "end_time": "2020-12-01T14:04:06.892177Z",
     "start_time": "2020-12-01T14:04:01.514283Z"
    },
    "hidden": true
   },
   "outputs": [],
   "source": [
    "AdaB = AdaBoostClassifier(DecisionTreeClassifier(max_depth=10), n_estimators=5)\n",
    "AdaB.fit(vec_train, y_train)\n",
    "y_pred_ab = AdaB.predict(vec_test)\n",
    "score_ab = accuracy_score(y_test, y_pred_ab)\n",
    "print(\"AdaBoost Accuracy: %0.3f\" %score_ab)\n",
    "print(classification_report(y_test, y_pred_ab))"
   ]
  },
  {
   "cell_type": "markdown",
   "metadata": {
    "heading_collapsed": true
   },
   "source": [
    "# George Testing"
   ]
  },
  {
   "cell_type": "code",
   "execution_count": null,
   "metadata": {
    "ExecuteTime": {
     "end_time": "2020-12-01T14:04:07.060666Z",
     "start_time": "2020-12-01T14:04:06.894623Z"
    },
    "hidden": true
   },
   "outputs": [],
   "source": [
    "george = pd.read_csv('../raw_data/fake_or_real_news _george_mcintire.csv')\n",
    "Xg = george.title + \" \" + george.text\n",
    "yg = george.label.map({\"REAL\": 0, \"FAKE\": 1})"
   ]
  },
  {
   "cell_type": "code",
   "execution_count": null,
   "metadata": {
    "ExecuteTime": {
     "end_time": "2020-12-01T14:04:46.067787Z",
     "start_time": "2020-12-01T14:04:07.062957Z"
    },
    "hidden": true
   },
   "outputs": [],
   "source": [
    "Xg = Xg.apply(lower)\n",
    "Xg = Xg.apply(number)\n",
    "Xg = Xg.apply(stop)\n",
    "Xg = Xg.apply(lemmatize)\n",
    "Xg = Xg.apply(virg)"
   ]
  },
  {
   "cell_type": "code",
   "execution_count": null,
   "metadata": {
    "ExecuteTime": {
     "end_time": "2020-12-01T14:04:47.736693Z",
     "start_time": "2020-12-01T14:04:46.070495Z"
    },
    "hidden": true
   },
   "outputs": [],
   "source": [
    "vec_Xg = vec.transform(Xg)"
   ]
  },
  {
   "cell_type": "code",
   "execution_count": null,
   "metadata": {
    "ExecuteTime": {
     "end_time": "2020-12-01T14:04:48.427419Z",
     "start_time": "2020-12-01T14:04:47.738832Z"
    },
    "hidden": true
   },
   "outputs": [],
   "source": [
    "yg_pred_rf = RdF.predict(vec_Xg)\n",
    "score_rf_g = accuracy_score(yg, yg_pred_rf)\n",
    "print(\"RandomForest Accuracy:  %0.3f\" %score_rf_g)\n",
    "print(classification_report(yg, yg_pred_rf))"
   ]
  },
  {
   "cell_type": "code",
   "execution_count": null,
   "metadata": {
    "ExecuteTime": {
     "end_time": "2020-12-01T14:04:48.506276Z",
     "start_time": "2020-12-01T14:04:48.429521Z"
    },
    "hidden": true
   },
   "outputs": [],
   "source": [
    "yg_pred_ab = AdaB.predict(vec_Xg)\n",
    "score_ab_g = accuracy_score(yg, yg_pred_ab)\n",
    "print(\"AdaBoost Accuracy: %0.3f\" %score_ab_g)\n",
    "print(classification_report(yg, yg_pred_ab))"
   ]
  },
  {
   "cell_type": "markdown",
   "metadata": {
    "heading_collapsed": true
   },
   "source": [
    "# Tuning"
   ]
  },
  {
   "cell_type": "code",
   "execution_count": 16,
   "metadata": {
    "ExecuteTime": {
     "end_time": "2020-12-01T15:56:36.628700Z",
     "start_time": "2020-12-01T15:56:36.625674Z"
    },
    "hidden": true
   },
   "outputs": [],
   "source": [
    "# from sklearn.pipeline import Pipeline\n",
    "# from sklearn.model_selection import GridSearchCV, RandomizedSearchCV\n",
    "\n",
    "# X, y = get_data(nb_samples=5_000)\n",
    "# X_train, X_test, y_train, y_test = train_test_split(X, y, test_size=0.3)\n",
    "\n",
    "# X_train = X_train.article.map(clean_txt)\n",
    "\n",
    "# X_test = X_test.article.map(clean_txt)\n",
    "\n",
    "# rf_pipeline = Pipeline([\n",
    "#     ('vectorize', TfidfVectorizer(ngram_range=(1, 1), max_df=1.0, min_df=1, max_features=None)),\n",
    "#     ('model', RandomForestClassifier(n_estimators=100, max_depth=None, n_jobs=-1))])\n",
    "\n",
    "# ada_pipeline = Pipeline([\n",
    "#     ('vectorize', TfidfVectorizer(ngram_range=(1, 1), max_df=1.0, min_df=1, max_features=None)),\n",
    "#     ('model', AdaBoostClassifier(DecisionTreeClassifier(max_depth=10), n_estimators=5, learning_rate=1.0))])\n",
    "\n",
    "# rf_pipeline.fit(X_train, y_train)\n",
    "# y_pred = rf_pipeline.predict(X_test)\n",
    "# score_rf = accuracy_score(y_test, y_pred)\n",
    "# print(\"AdaBoost Accuracy: %0.3f\" %score_rf)\n",
    "# print(classification_report(y_test, y_pred))"
   ]
  }
 ],
 "metadata": {
  "kernelspec": {
   "display_name": "Python 3",
   "language": "python",
   "name": "python3"
  },
  "language_info": {
   "codemirror_mode": {
    "name": "ipython",
    "version": 3
   },
   "file_extension": ".py",
   "mimetype": "text/x-python",
   "name": "python",
   "nbconvert_exporter": "python",
   "pygments_lexer": "ipython3",
   "version": "3.8.5"
  },
  "toc": {
   "base_numbering": 1,
   "nav_menu": {},
   "number_sections": false,
   "sideBar": true,
   "skip_h1_title": false,
   "title_cell": "Table of Contents",
   "title_sidebar": "Contents",
   "toc_cell": false,
   "toc_position": {},
   "toc_section_display": true,
   "toc_window_display": false
  },
  "varInspector": {
   "cols": {
    "lenName": 16,
    "lenType": 16,
    "lenVar": 40
   },
   "kernels_config": {
    "python": {
     "delete_cmd_postfix": "",
     "delete_cmd_prefix": "del ",
     "library": "var_list.py",
     "varRefreshCmd": "print(var_dic_list())"
    },
    "r": {
     "delete_cmd_postfix": ") ",
     "delete_cmd_prefix": "rm(",
     "library": "var_list.r",
     "varRefreshCmd": "cat(var_dic_list()) "
    }
   },
   "types_to_exclude": [
    "module",
    "function",
    "builtin_function_or_method",
    "instance",
    "_Feature"
   ],
   "window_display": false
  }
 },
 "nbformat": 4,
 "nbformat_minor": 4
}
